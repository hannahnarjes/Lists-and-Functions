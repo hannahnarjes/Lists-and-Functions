{
 "cells": [
  {
   "cell_type": "markdown",
   "id": "9604ce7c-5ae9-4eb7-ae1e-5d68881f3ef8",
   "metadata": {},
   "source": [
    "# 7.4 Make a list called things with these three strings as elements: \"mozzarella\", \"cinderella\", \"salmonella\"."
   ]
  },
  {
   "cell_type": "code",
   "execution_count": null,
   "id": "c255e698-6d13-4206-970d-59e822be270e",
   "metadata": {},
   "outputs": [],
   "source": [
    "things = [\"mozzarella\", \"cinderella\", \"salmonella\"]"
   ]
  },
  {
   "cell_type": "markdown",
   "id": "0c4d2fec-c319-4208-8730-5160fd704bc6",
   "metadata": {},
   "source": [
    "# 7.5 Capitalize the element in things that refers to a person and then print the list."
   ]
  },
  {
   "cell_type": "code",
   "execution_count": null,
   "id": "ae9e443d-c167-4312-a243-91d663660d0d",
   "metadata": {},
   "outputs": [],
   "source": [
    "for i in range(len(things)):\n",
    "    if \"ella\" in things[i]:\n",
    "        things[i] = things[i].capitalize()\n",
    "print(things)"
   ]
  },
  {
   "cell_type": "markdown",
   "id": "baa0078b-c51f-4bba-b75b-ca1f9ac5ca88",
   "metadata": {},
   "source": [
    "Yes, the element changed when capitalized. This method capitalizes the first letter of the string, making it uppercase, and makes the rest of the letters lowercase."
   ]
  },
  {
   "cell_type": "markdown",
   "id": "79141141-c86e-4f85-8aa8-e1b4393fc8b4",
   "metadata": {},
   "source": [
    "# 7.6 Make the cheesy element of things all uppercase and then print the list."
   ]
  },
  {
   "cell_type": "markdown",
   "id": "7744979a-afdb-4c20-a549-02758f4fbf6c",
   "metadata": {},
   "source": [
    "for i in range(len(things)):\n",
    "    if \"moz\" in things[i]:\n",
    "        things[i] = things[i].upper()\n",
    "print(things)"
   ]
  },
  {
   "cell_type": "markdown",
   "id": "91c494fc-07b0-4847-9ac1-c6778f1af065",
   "metadata": {},
   "source": [
    "# 7.7 Delete the disease element from things, collect your Nobel Prize, and print the list."
   ]
  },
  {
   "cell_type": "code",
   "execution_count": null,
   "id": "4cb471c6-4543-4194-b66e-ecfcc6158382",
   "metadata": {},
   "outputs": [],
   "source": [
    "things.remove(\"salmonella\")\n",
    "print(things)"
   ]
  },
  {
   "cell_type": "markdown",
   "id": "ea5282fc-0de5-417a-bb1c-a802a33c8ec8",
   "metadata": {},
   "source": [
    "# 9.1 Define a function called good() that returns the list ['Harry', 'Ron', 'Hermione']."
   ]
  },
  {
   "cell_type": "code",
   "execution_count": null,
   "id": "dd8c027b-b755-4026-9dea-75d1c7ed6ec6",
   "metadata": {},
   "outputs": [],
   "source": [
    "def good():\n",
    "    return ['Harry', 'Ron', 'Hermione']"
   ]
  },
  {
   "cell_type": "markdown",
   "id": "f6193567-d044-4f80-b44c-a08f850841b7",
   "metadata": {},
   "source": [
    "# 9.2 Define a generator function called get_odds() that returns the odd numbers from range(10)."
   ]
  },
  {
   "cell_type": "code",
   "execution_count": null,
   "id": "a58c90b6-51ae-462e-b8e3-497f56f1a78e",
   "metadata": {},
   "outputs": [],
   "source": [
    "def get_odds():\n",
    "    for num in range(1, 10, 2):\n",
    "        yield num"
   ]
  },
  {
   "cell_type": "markdown",
   "id": "1e674b00-87e9-4234-9d27-fa213ef1bb49",
   "metadata": {},
   "source": [
    "# Use a for loop to find and print the third value returned by get_odds()."
   ]
  },
  {
   "cell_type": "code",
   "execution_count": null,
   "id": "a18e8f46-88b4-43c4-886f-1077dfa06f1d",
   "metadata": {},
   "outputs": [],
   "source": [
    "for index, num in enumerate(get_odds()):\n",
    "    if index == 2:\n",
    "        print(\"Third value returned by get_odds():\", num)\n",
    "        break"
   ]
  }
 ],
 "metadata": {
  "kernelspec": {
   "display_name": "Python 3 (ipykernel)",
   "language": "python",
   "name": "python3"
  },
  "language_info": {
   "codemirror_mode": {
    "name": "ipython",
    "version": 3
   },
   "file_extension": ".py",
   "mimetype": "text/x-python",
   "name": "python",
   "nbconvert_exporter": "python",
   "pygments_lexer": "ipython3",
   "version": "3.11.7"
  }
 },
 "nbformat": 4,
 "nbformat_minor": 5
}
